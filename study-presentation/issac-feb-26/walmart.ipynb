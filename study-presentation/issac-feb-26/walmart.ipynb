{
    "cells": [
        {
            "cell_type": "markdown",
            "metadata": {},
            "source": "\n"
        },
        {
            "cell_type": "code",
            "execution_count": null,
            "metadata": {},
            "outputs": [],
            "source": [
                "knitr::opts_chunk$set(echo = TRUE)\n",
                "\n"
            ]
        },
        {
            "cell_type": "markdown",
            "metadata": {},
            "source": [
                "## 목표\n",
                "\n",
                "Walmart 매출 예측 대회의 베이스라인 모델을 `tidymodels`를 사용하여 잡아본다.\n",
                "\n",
                "## 라이브러리 로딩\n",
                "\n",
                "예측에 사용될 패키지를 로딩하고, `read_csv()`를 이용해서 `train`과 `test` 셋을 불러온다. 기본 모델(baseline model)이기 때문에 추가적인 정보가 포함되어 있는 다른 파일들은 나중에 불러오도록 한다. \n"
            ]
        },
        {
            "cell_type": "code",
            "execution_count": null,
            "metadata": {},
            "outputs": [],
            "source": [
                "library(tidyverse)\n",
                "library(tidymodels)\n",
                "library(lubridate)\n",
                "library(skimr)\n",
                "library(magrittr)\n",
                "\n",
                "train_path <- file.path(here::here(),\"data/walmart/train.csv.zip\")\n",
                "test_path <- file.path(here::here(),\"data/walmart/test.csv.zip\")\n",
                "train <- read_csv(train_path)\n",
                "test <- read_csv(test_path)\n"
            ]
        },
        {
            "cell_type": "markdown",
            "metadata": {},
            "source": [
                "## 각 데이터 셋 정보확인\n",
                "\n",
                "각 `train`과 `test` 셋의 크기와 변수 이름을 확인하자. `test` 셋에는 우리가 예측하고자 하는 변수인 `Weekly_Sales`가 포함되어 있지 않음을 알 수 있다.\n"
            ]
        },
        {
            "cell_type": "code",
            "execution_count": null,
            "metadata": {},
            "outputs": [],
            "source": [
                "# size of data\n",
                "dim(train)\n",
                "dim(test)\n",
                "\n",
                "# train\n",
                "names(train)\n",
                "train %>% head()\n",
                "\n",
                "# test\n",
                "names(test)\n",
                "test %>% head()\n"
            ]
        },
        {
            "cell_type": "markdown",
            "metadata": {},
            "source": [
                "## 전처리를 위한 alldata 생성\n",
                "\n",
                "전처리 과정을 거칠 때 `train`과 `test`셋을 합쳐놓으면 편한점이 많으므로, `all_data`로 합쳐놓기로 하자.\n"
            ]
        },
        {
            "cell_type": "code",
            "execution_count": null,
            "metadata": {},
            "outputs": [],
            "source": [
                "# alldata combine\n",
                "all_data <- bind_rows(train, test)\n",
                "all_data <- all_data %>% janitor::clean_names()\n",
                "names(all_data)\n",
                "\n",
                "all_data %>% head()\n",
                "all_data %>% skim()\n"
            ]
        },
        {
            "cell_type": "markdown",
            "metadata": {},
            "source": [
                "`Date` 타입인 `date`변수에서 년도 정보와 월 정보를 빼낸 후, `date` 변수를 제외시킴.\n",
                "\n"
            ]
        },
        {
            "cell_type": "code",
            "execution_count": null,
            "metadata": {},
            "outputs": [],
            "source": [
                "all_data %>% \n",
                "    mutate(year = year(date),\n",
                "           month = month(date)) %>% \n",
                "    select(-c(date)) -> all_data2\n",
                "\n",
                "all_data2 %>% head()\n"
            ]
        },
        {
            "cell_type": "markdown",
            "metadata": {},
            "source": [
                "## tidymodels - recipe을 이용한 전처리\n",
                "\n",
                "가장 간단한 전처리를 한다. 숫자 변수 (numeric)들을 normalize 시키는 `step_normalize()`를 이용해서 평균과 분산을 계산, 스케일링을 시행함. \n"
            ]
        },
        {
            "cell_type": "code",
            "execution_count": null,
            "metadata": {},
            "outputs": [],
            "source": [
                "walmart_recipe <- \n",
                "    recipe(weekly_sales ~ .,\n",
                "           data = all_data2) %>% \n",
                "    step_normalize(all_numeric(), -all_outcomes())\n",
                "walmart_recipe\n",
                "\n",
                "walmart_recipe <- prep(walmart_recipe, training = all_data2)\n",
                "walmart_recipe\n",
                "\n",
                "all_data2 <- bake(walmart_recipe, \n",
                "                  new_data = all_data2)\n",
                "\n",
                "names(all_data2)\n",
                "head(all_data2)\n"
            ]
        },
        {
            "cell_type": "markdown",
            "metadata": {},
            "source": [
                "## 테스트, 트레인 셋 분리\n",
                "\n",
                "전처리가 끝난 `all_data2`에서 `train`셋과 `test`셋을 분리함.\n"
            ]
        },
        {
            "cell_type": "code",
            "execution_count": null,
            "metadata": {},
            "outputs": [],
            "source": [
                "# train, test\n",
                "\n",
                "train_index <- seq_len(nrow(train))\n",
                "train2 <- all_data2[train_index,]\n",
                "test2 <- all_data2[-train_index,]\n",
                "\n",
                "train2 %>% dim()\n"
            ]
        },
        {
            "cell_type": "markdown",
            "metadata": {},
            "source": [
                "## 모델 설정 및 학습\n",
                "\n",
                "기본 패키지에 있는 `lm()`함수를 사용하여 선형 회귀를 사용하기 위하여, `set_engine()` 함수의 값을 \"lm\"으로 설정함. `fit()`를 사용해서 학습한다.\n"
            ]
        },
        {
            "cell_type": "code",
            "execution_count": null,
            "metadata": {},
            "outputs": [],
            "source": [
                "lm_model <- \n",
                "    linear_reg() %>% \n",
                "    set_engine(\"lm\")\n",
                "\n",
                "lm_form_fit <- \n",
                "    lm_model %>% \n",
                "    fit(weekly_sales ~ ., data = train2)\n",
                "\n",
                "lm_form_fit\n"
            ]
        },
        {
            "cell_type": "markdown",
            "metadata": {},
            "source": [
                "## 예측 및 제출\n",
                "\n",
                "`lm_form_fit`에 들어있는 정보를 사용하여 test셋에 대응하는 `weekly_sales`를 예측한다. 예측한 결과를 대회에서 제공하는 submission 파일에 넣어서 대회 홈페이지에 제출하면 끝!\n"
            ]
        },
        {
            "cell_type": "code",
            "execution_count": null,
            "metadata": {},
            "outputs": [],
            "source": [
                "result <- predict(lm_form_fit, new_data = test2)\n",
                "\n",
                "subfile <- read_csv(file.path(here::here(),\n",
                "                    \"/data/walmart/sampleSubmission.csv.zip\"))\n",
                "subfile$Weekly_Sales <- result$.pred\n",
                "\n",
                "write.csv(subfile, row.names = FALSE,\n",
                "          file.path(here::here(),\"/data/walmart/baseline-lm-02262021.csv\"))\n"
            ]
        },
        {
            "cell_type": "markdown",
            "metadata": {},
            "source": "\n"
        }
    ],
    "metadata": {
        "anaconda-cloud": "",
        "kernelspec": {
            "display_name": "R",
            "langauge": "R",
            "name": "ir"
        },
        "language_info": {
            "codemirror_mode": "r",
            "file_extension": ".r",
            "mimetype": "text/x-r-source",
            "name": "R",
            "pygments_lexer": "r",
            "version": "3.4.1"
        }
    },
    "nbformat": 4,
    "nbformat_minor": 1
}
